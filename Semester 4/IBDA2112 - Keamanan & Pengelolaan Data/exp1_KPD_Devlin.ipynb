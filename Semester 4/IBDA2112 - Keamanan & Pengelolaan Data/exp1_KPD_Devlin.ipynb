{
 "cells": [
  {
   "cell_type": "markdown",
   "metadata": {},
   "source": [
    "Install library cryptography: pip install cryptography"
   ]
  },
  {
   "cell_type": "code",
   "execution_count": 1,
   "metadata": {},
   "outputs": [],
   "source": [
    "from cryptography.hazmat.primitives.ciphers import Cipher, algorithms, modes\n",
    "from cryptography.hazmat.primitives import padding\n",
    "from cryptography.hazmat.backends import default_backend\n",
    "import os"
   ]
  },
  {
   "cell_type": "code",
   "execution_count": 2,
   "metadata": {},
   "outputs": [],
   "source": [
    "# Fungsi untuk mengenkripsi teks\n",
    "def encrypt(plaintext, key):\n",
    "    iv = os.urandom(16)  # Generate IV (16 byte) # untuk generate kunci (data awal yang digenerate random)\n",
    "    cipher = Cipher(algorithms.AES(key), modes.CBC(iv), backend=default_backend()) # cipher digunakan untuk encryption, menggunakan algoritma AES\n",
    "    # AES untuk generate key/kunci nya\n",
    "\n",
    "    # Padding untuk memastikan ukuran blok 16 byte\n",
    "    padder = padding.PKCS7(128).padder() # 1 blok = 16 byte, 16 x 8 = 128 bit. akan padding block sebanyak 128 bit\n",
    "    padded_data = padder.update(plaintext.encode()) + padder.finalize()\n",
    "\n",
    "    encryptor = cipher.encryptor() # data akan diencrypt dengan fungsi encryptor.\n",
    "    ciphertext = encryptor.update(padded_data) + encryptor.finalize() # dihasilkan chipertext dengan menambahkan dengan encryptor\n",
    "\n",
    "    return iv + ciphertext  # Gabungkan IV dengan ciphertext"
   ]
  },
  {
   "cell_type": "code",
   "execution_count": 3,
   "metadata": {},
   "outputs": [],
   "source": [
    "# Fungsi untuk mendekripsi teks\n",
    "def decrypt(ciphertext, key):\n",
    "    iv = ciphertext[:16]  # Ambil IV dari awal ciphertext\n",
    "    encrypted_data = ciphertext[16:]\n",
    "\n",
    "    cipher = Cipher(algorithms.AES(key), modes.CBC(iv), backend=default_backend()) # pakai key yang sama (symmetric)\n",
    "\n",
    "    decryptor = cipher.decryptor() # pakai function decryptor untuk menterjemahkan kembali.\n",
    "    decrypted_padded = decryptor.update(encrypted_data) + decryptor.finalize()\n",
    "\n",
    "    # Hapus padding\n",
    "    unpadder = padding.PKCS7(128).unpadder() # unpadd untuk menghapus kode yang ditambahkan di bagian belakang pada bagian sebelumnya.\n",
    "    plaintext = unpadder.update(decrypted_padded) + unpadder.finalize()\n",
    "\n",
    "    return plaintext.decode()"
   ]
  },
  {
   "cell_type": "code",
   "execution_count": 4,
   "metadata": {},
   "outputs": [
    {
     "name": "stdout",
     "output_type": "stream",
     "text": [
      "Ciphertext: 75394e17f8960e60d1c5fe12c07012639c687e5e4a0e6fe2dd30758ba9ca3b78\n",
      "Decrypted Text:  \n"
     ]
    }
   ],
   "source": [
    "# Kunci AES 256-bit (32 byte)\n",
    "key = os.urandom(32) # key dibuat dengan 32 byte = 256 bit (semakin besar semakin bagus)\n",
    "# print(key)\n",
    "\n",
    "# Input teks yang akan dienkripsi\n",
    "plaintext = \" \" # 'IN' panjangnya tetap sama, dibuat/dibulatkan jadi panjang datanya mendekati ke 16.\n",
    "\n",
    "# Enkripsi\n",
    "ciphertext = encrypt(plaintext, key)\n",
    "print(f\"Ciphertext: {ciphertext.hex()}\")\n",
    "\n",
    "# Dekripsi\n",
    "decrypted_text = decrypt(ciphertext, key)\n",
    "print(f\"Decrypted Text: {decrypted_text}\")"
   ]
  },
  {
   "cell_type": "markdown",
   "metadata": {},
   "source": [
    "1. Jelaskan perbedaan peran algoritma AES,  mode CBC dan padding\n",
    "2. Apakah yang digunakan kriptografi asimetris atau simetris jelaskan\n",
    "3. Pada fungsi decrypt gantilah menjadi iv=os.urandom(16), apa yang terjadi jelaskan\n",
    "4. Pada isi pesan plaintext, cobalah dari 1 huruf, 2 huruf dst. Lihatlah perubahan panjang chipertext, analisis perbedaannya\n",
    "5. Bagaimana praktis pengamanan'key' agar isi pesan tidak mudah diketahui [implementasi industrinya]"
   ]
  },
  {
   "cell_type": "markdown",
   "metadata": {},
   "source": [
    "jawaban:\n",
    "\n",
    "1. AES (Advanced Encryption Standard) adalah algoritma enkripsi simetris yang digunakan untuk mengamankan data. AES memiliki ukuran kunci 128-bit, 192-bit, atau 256-bit.Mode CBC (Cipher Block Chaining) bekerja dengan cara setiap blok ciphertext tergantung pada blok plaintext sebelumnya yang telah dienkripsi. Ini memberikan keamanan lebih dibandingkan ECB tetapi tidak mendukung paralelisasi. Padding digunakan karena AES bekerja dalam ukuran blok tetap (16 byte per blok). Jika data tidak cukup panjang, maka ditambahkan padding agar sesuai dengan ukuran blok.\n",
    "\n",
    "2. Kriptografi simetris menggunakan satu kunci untuk enkripsi dan dekripsi. Ini lebih cepat tetapi membutuhkan distribusi kunci yang aman. Sedangkan kriptografi asimetris menggunakan dua kunci (publik dan privat) seperti pada RSA dan ECC. Ini lebih aman untuk komunikasi antar pengguna tetapi lebih lambat dibanding simetris. Dalam hal ini, AES menggunakan kriptografi simetris, sedangkan komunikasi yang lebih aman biasanya menggunakan kriptografi dengan kombinasi simetris dan asimetris.\n",
    "\n",
    "3. Jika diganti dengan menggunakan iv=os.urandom(16), maka hasil dekripsi akan tidak valid dan tidak akan terbaca, karena IV yang digunakan saat enkripsi dan dekripsi tidak cocok saat dibandingkan.\n",
    "\n",
    "4. Dalam AES dengan mode CBC, panjang ciphertext bergantung pada panjang plaintext serta padding.\n",
    "Jika plaintext hanya 1 huruf, padding akan memenuhi hingga 16 byte. Jika plaintext ditambah menjadi 17 huruf, blok tambahan akan dibuat. Dalam hal ini, plaintext akan berpengaruh pada perubahan ciphertext juga.\n",
    "\n",
    "5. Implementasi industri: menggunakan Key Management System (KMS) seperti AWS, KMS atau Google Cloud KMS. Ada juga key yang disimpan di Hardware Security Module (HSM), bukan di dalam kode program. Ada juga yang menggunakan enkripsi kunci (Key Wrapping), di mana kunci utama dienkripsi dengan kunci lain yang lebih aman. Selain itu, ada juga yang menggunakan Secure Multi-Party Computation (SMPC) agar tidak ada satu pihak yang memiliki akses penuh ke kunci."
   ]
  },
  {
   "cell_type": "code",
   "execution_count": 5,
   "metadata": {},
   "outputs": [
    {
     "name": "stdout",
     "output_type": "stream",
     "text": [
      "Mode CBC - Waktu Enkripsi: 0.000000 detik\n",
      "Ciphertext (CBC): f42af6205dd00a0526bd72b156964ed7c7d4516043eb569618...\n",
      "\n",
      "Mode CFB - Waktu Enkripsi: 0.001990 detik\n",
      "Ciphertext (CFB): 5304f3331e997aebe336380c1742e2b6497cb7b9afe39d0e16...\n",
      "\n",
      "Mode GCM - Waktu Enkripsi: 0.000997 detik\n",
      "Ciphertext (GCM): 5a2da5fb1ff075831a772c2cf120a8c0ab36555dc8dd6fd2a0...\n",
      "\n"
     ]
    }
   ],
   "source": [
    "import time\n",
    "# Fungsi enkripsi dengan berbagai mode\n",
    "def encrypt_aes(plaintext, key, mode):\n",
    "    iv = os.urandom(16)\n",
    "    if mode == \"CBC\":\n",
    "        cipher_mode = modes.CBC(iv)\n",
    "    elif mode == \"CFB\":\n",
    "        cipher_mode = modes.CFB(iv)\n",
    "    elif mode == \"GCM\": # metode GCM untuk mendeteksi autentikasi data/integritas data terganggu atau tidak.\n",
    "        cipher_mode = modes.GCM(iv)\n",
    "    else:\n",
    "        raise ValueError(\"Mode tidak didukung\")\n",
    "\n",
    "    cipher = Cipher(algorithms.AES(key), cipher_mode, backend=default_backend())\n",
    "    plaintext_bytes = plaintext.encode()\n",
    "\n",
    "    # Padding hanya diperlukan untuk CBC\n",
    "    if mode == \"CBC\":\n",
    "        padder = padding.PKCS7(128).padder()\n",
    "        plaintext_bytes  = padder.update(plaintext_bytes)+ padder.finalize()\n",
    "\n",
    "    encryptor = cipher.encryptor()\n",
    "    ciphertext = encryptor.update(plaintext_bytes) + encryptor.finalize()\n",
    "\n",
    "    return iv + ciphertext\n",
    "\n",
    "# Uji performa mode AES\n",
    "key = os.urandom(32)\n",
    "plaintext = \"Data rahasia untuk eksperimen yang lebih kompleks.\"\n",
    "\n",
    "for mode in [\"CBC\", \"CFB\", \"GCM\"]:\n",
    "    start_time = time.time()\n",
    "    plaintext = \"Data rahasia untuk eksperimen yang lebih kompleks.\"\n",
    "    ciphertext = encrypt_aes(plaintext, key, mode)\n",
    "    end_time = time.time()\n",
    "    print(f\"Mode {mode} - Waktu Enkripsi: {end_time - start_time:.6f} detik\")\n",
    "    print(f\"Ciphertext ({mode}): {ciphertext.hex()[:50]}...\\n\")"
   ]
  },
  {
   "cell_type": "markdown",
   "metadata": {},
   "source": [
    "6. Apa kegunaan dan perbedaan masing-masing mode AES ini?"
   ]
  },
  {
   "cell_type": "markdown",
   "metadata": {},
   "source": [
    "Jawab:\n",
    "\n",
    "6. CBC cocok untuk file & database encryption, tapi tidak mendukung parallel processing. Sedangkan CFB cocok untuk stream encryption & secure communication (seperti TLS, VPN, SSH). Selain itu, mode GCM adalah mode yang paling aman dan cepat, yang cocok untuk network security protocols seperti TLS, IPsec & aplikasi modern."
   ]
  },
  {
   "cell_type": "code",
   "execution_count": 6,
   "metadata": {},
   "outputs": [
    {
     "name": "stdout",
     "output_type": "stream",
     "text": [
      "Memulai brute force pada kunci 4 karakter...\n",
      "Kunci ditemukan: abc1\n"
     ]
    }
   ],
   "source": [
    "from itertools import product\n",
    "import string\n",
    "\n",
    "# Fungsi brute force terhadap kunci pendek\n",
    "def brute_force_attack(target_ciphertext, correct_key):\n",
    "    charset = string.ascii_letters + string.digits\n",
    "    key_length = len(correct_key)\n",
    "    print(f\"Memulai brute force pada kunci {key_length} karakter...\")\n",
    "\n",
    "    for attempt in product(charset, repeat=key_length):\n",
    "        guessed_key = \"\".join(attempt).encode()\n",
    "        if guessed_key == correct_key:\n",
    "            print(f\"Kunci ditemukan: {guessed_key.decode()}\")\n",
    "            break\n",
    "\n",
    "# Simulasi kunci pendek (4 karakter)\n",
    "correct_key = b\"abcdefg\"\n",
    "correct_key = b\"abc1\" # panjang key nya hanya 4, makanya bisa ketemu dalam waktu yang cepat\n",
    "# key harus menggunakan standar dari NIST, AES 256 bit. \n",
    "\n",
    "ciphertext = encrypt_aes(\"Tes brute force\", correct_key.ljust(32, b'\\x00'), \"CBC\")\n",
    "\n",
    "# Menjalankan brute force\n",
    "brute_force_attack(ciphertext, correct_key)\n"
   ]
  },
  {
   "cell_type": "markdown",
   "metadata": {},
   "source": [
    "7. Cobalah berbagai variasi key dan key yang lebih panjang, amati prilakunya dan jelaskan mengapa AES direkomendasikan menggunakan panjang key 256 bit"
   ]
  },
  {
   "cell_type": "markdown",
   "metadata": {},
   "source": [
    "Jawab:\n",
    "\n",
    "7. AES direkomendasikan menggunakan panjang key 256 bit supaya keamanannya tetap terjaga. Semakin panjang bit dari key nya maka akan semakin susah pula key untuk diretas/dihack."
   ]
  },
  {
   "cell_type": "code",
   "execution_count": 7,
   "metadata": {},
   "outputs": [
    {
     "name": "stdout",
     "output_type": "stream",
     "text": [
      "Ciphertext (GCM): 451de90dced617ce5986f05a83b8c49f47b6bd0f6383d7722ceaa56fd95a7178d3\n",
      "\n",
      " Dekripsi Sukses: Pesan rahasia yang sangat penting\n",
      "\n",
      " Dekripsi Gagal Setelah Perubahan: [GCM DETECTED CHANGE] Dekripsi gagal: \n",
      "\n"
     ]
    }
   ],
   "source": [
    "# Fungsi Enkripsi AES-GCM\n",
    "def encrypt_gcm(plaintext, key):\n",
    "    iv = os.urandom(12)  # IV 12-byte untuk GCM\n",
    "    cipher = Cipher(algorithms.AES(key), modes.GCM(iv), backend=default_backend())\n",
    "    encryptor = cipher.encryptor()\n",
    "\n",
    "    ciphertext = encryptor.update(plaintext.encode()) + encryptor.finalize()\n",
    "    tag = encryptor.tag  # Authentication tag untuk verifikasi\n",
    "\n",
    "    return iv, ciphertext, tag  # Mengembalikan IV, Ciphertext, dan Tag\n",
    "\n",
    "# Fungsi Dekripsi AES-GCM\n",
    "def decrypt_gcm(iv, ciphertext, tag, key):\n",
    "    cipher = Cipher(algorithms.AES(key), modes.GCM(iv, tag), backend=default_backend())\n",
    "    decryptor = cipher.decryptor()\n",
    "\n",
    "    try:\n",
    "        decrypted_text = decryptor.update(ciphertext) + decryptor.finalize()\n",
    "        #print(f\"decript:{decrypted_text.hex()}\")\n",
    "        return decrypted_text.decode()\n",
    "    except Exception as e:\n",
    "        return f\"[GCM DETECTED CHANGE] Dekripsi gagal: {str(e)}\"\n",
    "\n",
    "# Buat kunci AES-256 (32 byte)\n",
    "key = os.urandom(32)\n",
    "plaintext = \"Pesan rahasia yang sangat penting\"\n",
    "\n",
    "# Enkripsi dengan AES-GCM\n",
    "iv, ciphertext, tag = encrypt_gcm(plaintext, key) # tag yang membuat GCM bisa mendeteksi serangan yang bisa mengubah data.\n",
    "print(f\"Ciphertext (GCM): {ciphertext.hex()}\\n\")\n",
    "\n",
    "# Dekripsi Tanpa Perubahan\n",
    "decrypted_text = decrypt_gcm(iv, ciphertext, tag, key)\n",
    "print(f\" Dekripsi Sukses: {decrypted_text}\\n\")\n",
    "\n",
    "# Mengubah Satu Byte di Ciphertext untuk (Simulasi Serangan)\n",
    "ciphertext_modified = bytearray(ciphertext)\n",
    "ciphertext_modified[5] ^= 0xFF  # Membalikkan satu byte pada index ke-5 (0xFF = 256)\n",
    "\n",
    "# Coba Dekripsi dengan Ciphertext yang Telah Diubah\n",
    "decrypted_text_modified = decrypt_gcm(iv, bytes(ciphertext_modified), tag, key)\n",
    "print(f\" Dekripsi Gagal Setelah Perubahan: {decrypted_text_modified}\\n\")\n"
   ]
  },
  {
   "cell_type": "code",
   "execution_count": 8,
   "metadata": {},
   "outputs": [
    {
     "name": "stdout",
     "output_type": "stream",
     "text": [
      "Ciphertext (CBC): 2828628d3051b857f19e08f00f26d379fe6e7a503d153f6698d73de58d03598b787026cc2841744a107caa5cea172a5c\n",
      "\n",
      "decript:c27e4f9d256788b4421339aaec0c85ca6e672068618d7573206469726168617369616b616e0b0b0b0b0b0b0b0b0b0b0b\n",
      " CBC Dekripsi Setelah Perubahan: [CBC DETECTED ERROR] Dekripsi gagal: 'utf-8' codec can't decode byte 0xc2 in position 0: invalid continuation byte\n",
      "\n"
     ]
    }
   ],
   "source": [
    "# Fungsi Enkripsi AES-CBC dengan Padding PKCS7\n",
    "def encrypt_cbc(plaintext, key, iv):\n",
    "    cipher = Cipher(algorithms.AES(key), modes.CBC(iv), backend=default_backend())\n",
    "    encryptor = cipher.encryptor()\n",
    "\n",
    "    # Gunakan padding PKCS7 agar panjang plaintext menjadi kelipatan 16 byte\n",
    "    padder = padding.PKCS7(128).padder()\n",
    "    padded_plaintext = padder.update(plaintext.encode()) + padder.finalize()\n",
    "\n",
    "    ciphertext = encryptor.update(padded_plaintext) + encryptor.finalize()\n",
    "    return ciphertext\n",
    "\n",
    "# Fungsi Dekripsi AES-CBC dengan Unpadding PKCS7\n",
    "def decrypt_cbc(iv, ciphertext, key):\n",
    "    cipher = Cipher(algorithms.AES(key), modes.CBC(iv), backend=default_backend())\n",
    "    decryptor = cipher.decryptor()\n",
    "    \n",
    "    try:\n",
    "        decrypted_padded = decryptor.update(ciphertext) + decryptor.finalize()\n",
    "        print(f\"decript:{decrypted_padded.hex()}\")\n",
    "\n",
    "        # Hapus padding setelah dekripsi\n",
    "        unpadder = padding.PKCS7(128).unpadder()\n",
    "        decrypted_text = unpadder.update(decrypted_padded) + unpadder.finalize()\n",
    "        \n",
    "        return decrypted_text.decode()\n",
    "    \n",
    "    except ValueError as e:\n",
    "        return f\"[CBC DETECTED ERROR] Dekripsi gagal: {str(e)}\"\n",
    "\n",
    "# Enkripsi dengan AES-CBC\n",
    "key = os.urandom(32)  # AES-256 key\n",
    "iv_cbc = os.urandom(16)  # IV untuk CBC\n",
    "plaintext = \"Pesan penting yang harus dirahasiakan\"\n",
    "\n",
    "ciphertext_cbc = encrypt_cbc(plaintext, key, iv_cbc)\n",
    "print(f\"Ciphertext (CBC): {ciphertext_cbc.hex()}\\n\") # isinya decrypt text yang isinya masih ada padding\n",
    "\n",
    "# Modifikasi Satu Byte dalam Ciphertext (Simulasi Serangan)\n",
    "ciphertext_cbc_modified = bytearray(ciphertext_cbc)\n",
    "\n",
    "ciphertext_cbc_modified[5] ^= 0xFF  # Mengubah satu byte\n",
    "\n",
    "# Dekripsi Ciphertext yang Telah Diubah\n",
    "decrypted_cbc_modified = decrypt_cbc(iv_cbc, bytes(ciphertext_cbc_modified), key)\n",
    "print(f\" CBC Dekripsi Setelah Perubahan: {decrypted_cbc_modified}\\n\")\n"
   ]
  },
  {
   "cell_type": "markdown",
   "metadata": {},
   "source": [
    "8. Bagaimana perbedaan respon model CBC dan mode GCM terhadap serangan?"
   ]
  },
  {
   "cell_type": "markdown",
   "metadata": {},
   "source": [
    "Jawab:\n",
    "\n",
    "8. Kedua model tersebut memiliki perbedaan utama dalam aspek keamanan dan efisiensi. Model CBC rentan terhadap serangan padding oracle jika sistem memberikan informasi tentang padding yang salah saat dekripsi, serta dapat dimanipulasi dengan serangan bit-flipping jika tidak ada autentikasi tambahan. Selain itu, model CBC tidak memiliki mekanisme bawaan untuk mencegah serangan chosen-ciphertext dan replay attack, yang memungkinkan penyerang dapat mengubah atau menggunakan kembali ciphertext tanpa terdeteksi sama sekali. Akan tetapi dari sisi efisiensinya, CBC lebih lambat karena prosesnya bergantung pada blok sebelumnya sehingga tidak bisa diproses secara paralel. Sementara itu, model GCM lebih aman dan efisien karena memiliki mekanisme Authenticated Encryption with Associated Data (AEAD) yang dapat melindungi data dari serangan modifikasi sehingga integritas sebuah data tetap terjaga. GCM juga lebih cepat dibanding CBC karena berbasis Counter Mode (CTR), yang memungkinkan enkripsi dapat diproses secara paralel. Selain itu, penggunaan nonce unik dalam GCM mencegah serangan replay membuatnya menjadi lebih baik dari segi keamanan maupun performanya."
   ]
  }
 ],
 "metadata": {
  "kernelspec": {
   "display_name": "Python 3",
   "language": "python",
   "name": "python3"
  },
  "language_info": {
   "codemirror_mode": {
    "name": "ipython",
    "version": 3
   },
   "file_extension": ".py",
   "mimetype": "text/x-python",
   "name": "python",
   "nbconvert_exporter": "python",
   "pygments_lexer": "ipython3",
   "version": "3.11.4"
  }
 },
 "nbformat": 4,
 "nbformat_minor": 2
}
