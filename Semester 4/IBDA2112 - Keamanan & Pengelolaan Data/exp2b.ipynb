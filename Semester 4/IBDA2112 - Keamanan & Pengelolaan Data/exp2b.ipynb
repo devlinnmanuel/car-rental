{
 "cells": [
  {
   "cell_type": "markdown",
   "metadata": {},
   "source": [
    "Apa itu Hash?\n",
    "\n",
    "Hash adalah proses mengubah data menjadi nilai tetap yang unik dengan menggunakan fungsi hash. Hashing sering digunakan dalam keamanan data, seperti penyimpanan password, tanda tangan digital, dan integritas file."
   ]
  },
  {
   "cell_type": "code",
   "execution_count": 4,
   "metadata": {},
   "outputs": [
    {
     "name": "stdout",
     "output_type": "stream",
     "text": [
      "Hash SHA-256: b94d27b9934d3e08a52e52d7da7dabfac484efe37a5380ee9088f7ace2efcde9\n"
     ]
    }
   ],
   "source": [
    "from cryptography.hazmat.primitives.ciphers import Cipher, algorithms, modes\n",
    "from cryptography.hazmat.primitives import padding\n",
    "from cryptography.hazmat.backends import default_backend\n",
    "from cryptography.hazmat.primitives import hashes\n",
    "import os\n",
    "\n",
    "# Data yang akan di-hash\n",
    "data = \"hello world\".encode()\n",
    "\n",
    "# Buat objek hashing menggunakan SHA-256\n",
    "digest = hashes.Hash(hashes.SHA256(), backend=default_backend())\n",
    "\n",
    "# Masukkan data ke dalam hash function\n",
    "digest.update(data)\n",
    "\n",
    "# Dapatkan hasil hash dalam format hexdigest\n",
    "hashed_output = digest.finalize().hex()\n",
    "\n",
    "print(\"Hash SHA-256:\", hashed_output)"
   ]
  },
  {
   "cell_type": "code",
   "execution_count": 6,
   "metadata": {},
   "outputs": [
    {
     "name": "stdout",
     "output_type": "stream",
     "text": [
      "Hash SHA-256: 37deff0f3fda2df3fca21a68a5b5f842619cea22ff0a02e28bc65994a048fe45\n"
     ]
    }
   ],
   "source": [
    "# Data yang akan di-hash\n",
    "data = \"selamat datang di CIT\".encode()\n",
    "\n",
    "# Buat objek hashing menggunakan SHA-256\n",
    "digest = hashes.Hash(hashes.SHA256(), backend=default_backend())\n",
    "\n",
    "# Masukkan data ke dalam hash function\n",
    "digest.update(data)\n",
    "\n",
    "# Dapatkan hasil hash dalam format hexdigest\n",
    "hashed_output = digest.finalize().hex()\n",
    "\n",
    "print(\"Hash SHA-256:\", hashed_output)"
   ]
  },
  {
   "cell_type": "markdown",
   "metadata": {},
   "source": [
    "1. Coba run code diatas beberapa kali? Apakah hasilnya berubah\n",
    "2. Ganti dengan kata yang lain apakah berubah?\n"
   ]
  },
  {
   "cell_type": "markdown",
   "metadata": {},
   "source": [
    "jawab:\n",
    "1. hasilnya tidak berubah ketika dirun beberapa kali.\n",
    "2. ketika diganti dengan kata yang lain, baru hasilnya akan berubah."
   ]
  },
  {
   "cell_type": "code",
   "execution_count": 12,
   "metadata": {},
   "outputs": [
    {
     "name": "stdout",
     "output_type": "stream",
     "text": [
      "Salt (Base64): V1S4f4dt1h4qBD5WjvYXEQ==\n",
      "Hash SHA-256 dengan Salt: ffea7c8d3fafbbcf3cb132e5d82fdadd6b319b2f79e5120a3c9b80bc602590dc\n"
     ]
    }
   ],
   "source": [
    "import os, base64\n",
    "\n",
    "# Buat salt acak (16 bytes)\n",
    "salt = os.urandom(16)\n",
    "\n",
    "# Buat objek hashing menggunakan SHA-256\n",
    "digest = hashes.Hash(hashes.SHA256(), backend=default_backend())\n",
    "\n",
    "# Masukkan salt + data ke dalam hash function\n",
    "digest.update(salt + data)\n",
    "\n",
    "# Dapatkan hasil hash dalam format hexdigest\n",
    "hashed_output_salted = digest.finalize().hex()\n",
    "\n",
    "\n",
    "# Cetak hasil hashing\n",
    "print(\"Salt (Base64):\", base64.b64encode(salt).decode())\n",
    "print(\"Hash SHA-256 dengan Salt:\", hashed_output_salted)\n"
   ]
  },
  {
   "cell_type": "markdown",
   "metadata": {},
   "source": [
    "3. Coba run code diatas beberapa kali? Apakah hasilnya berubah\n",
    "4. Apa kegunaan penambahan \"salt\" pada kode diatas?\n",
    "5. Jelaskan kegunaan metode ini untuk menangani \"Rainbow Table Attack\""
   ]
  },
  {
   "cell_type": "markdown",
   "metadata": {},
   "source": [
    "jawab:\n",
    "1. ketika dirun berulang kali, hasilnya akan berubah terus menerus.\n",
    "2. kegunaan salt\n",
    "3. "
   ]
  },
  {
   "cell_type": "code",
   "execution_count": 16,
   "metadata": {},
   "outputs": [
    {
     "name": "stdout",
     "output_type": "stream",
     "text": [
      "Salt (Base64): CbEPWD9+fRvwOjn6z+v2Gg==\n",
      "Derived Hash (Base64): 112eLMjJyaHo9fPFDVQvAZJykgsMivAbKh+Y0GxXbEA=\n"
     ]
    }
   ],
   "source": [
    "from cryptography.hazmat.primitives.kdf.pbkdf2 import PBKDF2HMAC\n",
    "\n",
    "password = \"mypassword\".encode()\n",
    "\n",
    "# Buat salt acak (16 bytes)\n",
    "salt = os.urandom(16)\n",
    "\n",
    "# Gunakan PBKDF2HMAC untuk membuat hash\n",
    "kdf = PBKDF2HMAC(\n",
    "    algorithm=hashes.SHA256(),\n",
    "    length=32,\n",
    "    salt=salt,\n",
    "    iterations=100000,\n",
    ")\n",
    "\n",
    "hashed_password = kdf.derive(password)\n",
    "\n",
    "print(\"Salt (Base64):\", base64.b64encode(salt).decode())\n",
    "print(\"Derived Hash (Base64):\", base64.b64encode(hashed_password).decode())\n"
   ]
  },
  {
   "cell_type": "markdown",
   "metadata": {},
   "source": [
    "6. Jelaskan mengapa password perlu dibuat hashnya dan bukan menggunakan enskripsi simetris atau asimetris\n",
    "7. Mengapa perlu iterasi hashing yang cukup banyak pada algoritma di atas\n",
    "8. Mengapa pendekatan ini berguna untuk menghadapi percobaan serangan brute force?"
   ]
  },
  {
   "cell_type": "markdown",
   "metadata": {},
   "source": [
    "### Buatlah code untuk enkripsi dan dekripsi sebuah pesan singkat, namun key nya adalah password yang dibuat menggunakan hash\n"
   ]
  },
  {
   "cell_type": "markdown",
   "metadata": {},
   "source": []
  }
 ],
 "metadata": {
  "kernelspec": {
   "display_name": "Python 3",
   "language": "python",
   "name": "python3"
  },
  "language_info": {
   "codemirror_mode": {
    "name": "ipython",
    "version": 3
   },
   "file_extension": ".py",
   "mimetype": "text/x-python",
   "name": "python",
   "nbconvert_exporter": "python",
   "pygments_lexer": "ipython3",
   "version": "3.11.4"
  }
 },
 "nbformat": 4,
 "nbformat_minor": 2
}
