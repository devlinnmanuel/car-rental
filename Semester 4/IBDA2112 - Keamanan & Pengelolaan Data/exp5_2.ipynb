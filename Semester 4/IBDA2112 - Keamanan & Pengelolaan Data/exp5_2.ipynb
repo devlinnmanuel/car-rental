{
 "cells": [
  {
   "cell_type": "code",
   "execution_count": 2,
   "metadata": {},
   "outputs": [
    {
     "name": "stderr",
     "output_type": "stream",
     "text": [
      "'pip' is not recognized as an internal or external command,\n",
      "operable program or batch file.\n"
     ]
    }
   ],
   "source": [
    "!pip install shamirs\n"
   ]
  },
  {
   "cell_type": "markdown",
   "metadata": {},
   "source": [
    "supaya bisa diakses, perlu persetujuan dari beberapa orang untuk combine kuncinya."
   ]
  },
  {
   "cell_type": "code",
   "execution_count": 8,
   "metadata": {},
   "outputs": [],
   "source": [
    "import shamirs\n",
    "\n",
    "# Rahasia yang ingin dibagi (misalnya, dalam bentuk integer)\n",
    "# secret =  b\"myPassword123\"\n",
    "secret =  b\"myPassword123\"\n",
    "# Konversi bytes ke integer\n",
    "secret_int = int.from_bytes(secret, byteorder=\"big\")\n",
    "\n",
    "# Jumlah bagian (shares) yang ingin dibuat\n",
    "num_shares = 5\n",
    "\n",
    "# Jumlah minimal shares yang diperlukan untuk merekonstruksi rahasia\n",
    "threshold = 3\n",
    "\n",
    "# Membagi rahasia menjadi shares\n",
    "shares = shamirs.shares(secret_int, num_shares, threshold=threshold)"
   ]
  },
  {
   "cell_type": "code",
   "execution_count": 4,
   "metadata": {},
   "outputs": [
    {
     "name": "stdout",
     "output_type": "stream",
     "text": [
      "Shares:\n",
      "Index: 1, Value: 140975672365782519455444503600935192703\n",
      "Index: 2, Value: 91016494379843454918959295566514786419\n",
      "Index: 3, Value: 20263658176066612630241049164460821006\n",
      "Index: 4, Value: 98858347214921224320977068110657402191\n",
      "Index: 5, Value: 156659378035938058259480048689220424247\n"
     ]
    }
   ],
   "source": [
    "# Menampilkan shares yang dihasilkan\n",
    "print(\"Shares:\")\n",
    "for share in shares:\n",
    "    print(f\"Index: {share.index}, Value: {share.value}\")\n"
   ]
  },
  {
   "cell_type": "code",
   "execution_count": 5,
   "metadata": {},
   "outputs": [
    {
     "name": "stdout",
     "output_type": "stream",
     "text": [
      "Recovered Secret: 8673414574508009369551837934131\n",
      "Recovered Secret: b'myPassword123'\n"
     ]
    }
   ],
   "source": [
    "# Misalkan kita memiliki sejumlah shares yang memenuhi threshold\n",
    "selected_shares = shares[0:3]\n",
    "\n",
    "# Merekonstruksi rahasia dari shares yang dipilih\n",
    "recovered_secret_int = shamirs.interpolate(selected_shares)\n",
    "\n",
    "print(f\"Recovered Secret: {recovered_secret_int}\")\n",
    "\n",
    "# Konversi integer kembali ke bytes\n",
    "recovered_secret = recovered_secret_int.to_bytes((recovered_secret_int.bit_length() + 7) // 8, byteorder=\"big\")\n",
    "\n",
    "print(f\"Recovered Secret: {recovered_secret}\")"
   ]
  },
  {
   "cell_type": "markdown",
   "metadata": {},
   "source": [
    "#### Konversi Password menggunakan hash function, lalu hasilnya dibagi menjadi 7 bagian dan hanya jika 5 bagian terkumpul baru bisa membaca isi pesan rahasia"
   ]
  },
  {
   "cell_type": "markdown",
   "metadata": {},
   "source": []
  },
  {
   "cell_type": "code",
   "execution_count": 17,
   "metadata": {},
   "outputs": [
    {
     "name": "stdout",
     "output_type": "stream",
     "text": [
      "b'\\xf2\\x8d\\xea\\xb1\\xa3\\xf6\\xe8\\xc8B/\\xd0\\xab\\xbd\\xb4\\x9e%\\xf1\\x14\\xfb0\\x9c\\x82\\xfbU\\xb1\\x89\\xdd\\xde\\xb4\\xb2\\x82\\x0c'\n",
      "Salt (Base64): WxAQigNLeTIElR3lnIG06w==\n",
      "Derived Hash (Base64): 8o3qsaP26MhCL9CrvbSeJfEU+zCcgvtVsYnd3rSyggw=\n",
      "\n",
      "\n",
      "Shares:\n",
      "Index: 1, Value: 81168104556367084681750953292916799292\n",
      "Index: 2, Value: 59958049946932384456255491176437771081\n",
      "Index: 3, Value: 79956715247279005957501062143329080461\n",
      "Index: 4, Value: 68720281740735085059309482418731585243\n",
      "Index: 5, Value: 22482484723991854087688850485118818253\n",
      "Index: 6, Value: 6154613507103641820833547082296987332\n",
      "Index: 7, Value: 153325511413487873489124235207404975336\n",
      "\n",
      "Recovered Secret: 114567068345148835480664610809073876571\n",
      "Recovered Secret: b'V0\\xd0\\x93\\xe4p\\xcc\\xe65\\xe9\\x7f60\\x1b\\xbe['\n"
     ]
    }
   ],
   "source": [
    "import shamirs\n",
    "import os, base64\n",
    "from cryptography.hazmat.primitives import hashes\n",
    "from cryptography.hazmat.primitives.kdf.pbkdf2 import PBKDF2HMAC\n",
    "\n",
    "password = \"Halo aku adalah manusia\".encode()\n",
    "# password = \"myPassword123\".encode()\n",
    "salt = os.urandom(16) # Buat salt acak (16 bytes)\n",
    "\n",
    "# Gunakan PBKDF2HMAC untuk membuat hash\n",
    "kdf = PBKDF2HMAC(\n",
    "    algorithm=hashes.SHA256(),\n",
    "    length=32,\n",
    "    salt=salt,\n",
    "    iterations=100000,\n",
    ")\n",
    "\n",
    "hashed_password = kdf.derive(password)\n",
    "\n",
    "print(hashed_password)\n",
    "print(\"Salt (Base64):\", base64.b64encode(salt).decode())\n",
    "print(\"Derived Hash (Base64):\", base64.b64encode(hashed_password).decode())\n",
    "print()\n",
    "\n",
    "# Konversi bytes ke integer\n",
    "PRIME = 2**127 - 1\n",
    "secret_int = int.from_bytes(hashed_password, byteorder=\"big\") % PRIME\n",
    "\n",
    "# Jumlah bagian (shares) yang ingin dibuat\n",
    "num_shares = 7\n",
    "\n",
    "# Jumlah minimal shares yang diperlukan untuk merekonstruksi rahasia\n",
    "threshold = 5\n",
    "\n",
    "# Membagi rahasia menjadi shares\n",
    "shares = shamirs.shares(secret_int, num_shares, threshold=threshold)\n",
    "print()\n",
    "\n",
    "# Menampilkan shares yang dihasilkan\n",
    "print(\"Shares:\")\n",
    "for share in shares:\n",
    "    print(f\"Index: {share.index}, Value: {share.value}\")\n",
    "print()\n",
    "\n",
    "# Misalkan kita memiliki sejumlah shares yang memenuhi threshold\n",
    "selected_shares = shares[0:6]\n",
    "\n",
    "# Merekonstruksi rahasia dari shares yang dipilih\n",
    "recovered_secret_int = shamirs.interpolate(selected_shares)\n",
    "\n",
    "print(f\"Recovered Secret: {recovered_secret_int}\")\n",
    "\n",
    "# Konversi integer kembali ke bytes\n",
    "recovered_secret = recovered_secret_int.to_bytes((recovered_secret_int.bit_length() + 7) // 8, byteorder=\"big\")\n",
    "\n",
    "print(f\"Recovered Secret: {recovered_secret}\")"
   ]
  }
 ],
 "metadata": {
  "kernelspec": {
   "display_name": "Python 3",
   "language": "python",
   "name": "python3"
  },
  "language_info": {
   "codemirror_mode": {
    "name": "ipython",
    "version": 3
   },
   "file_extension": ".py",
   "mimetype": "text/x-python",
   "name": "python",
   "nbconvert_exporter": "python",
   "pygments_lexer": "ipython3",
   "version": "3.11.4"
  }
 },
 "nbformat": 4,
 "nbformat_minor": 2
}
