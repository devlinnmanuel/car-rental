{
 "cells": [
  {
   "cell_type": "markdown",
   "metadata": {},
   "source": [
    "Apa itu Hash?\n",
    "\n",
    "Hash adalah proses mengubah data menjadi nilai tetap yang unik dengan menggunakan fungsi hash. Hashing sering digunakan dalam keamanan data, seperti penyimpanan password, tanda tangan digital, dan integritas file."
   ]
  },
  {
   "cell_type": "code",
   "execution_count": 1,
   "metadata": {},
   "outputs": [
    {
     "name": "stdout",
     "output_type": "stream",
     "text": [
      "Hash SHA-256: b94d27b9934d3e08a52e52d7da7dabfac484efe37a5380ee9088f7ace2efcde9\n"
     ]
    }
   ],
   "source": [
    "from cryptography.hazmat.primitives.ciphers import Cipher, algorithms, modes\n",
    "from cryptography.hazmat.primitives import padding\n",
    "from cryptography.hazmat.backends import default_backend\n",
    "from cryptography.hazmat.primitives import hashes\n",
    "import os\n",
    "\n",
    "# Data yang akan di-hash\n",
    "data = \"hello world\".encode()\n",
    "\n",
    "# Buat objek hashing menggunakan SHA-256\n",
    "digest = hashes.Hash(hashes.SHA256(), backend=default_backend())\n",
    "\n",
    "# Masukkan data ke dalam hash function\n",
    "digest.update(data)\n",
    "\n",
    "# Dapatkan hasil hash dalam format hexdigest\n",
    "hashed_output = digest.finalize().hex()\n",
    "\n",
    "print(\"Hash SHA-256:\", hashed_output)"
   ]
  },
  {
   "cell_type": "code",
   "execution_count": 2,
   "metadata": {},
   "outputs": [
    {
     "name": "stdout",
     "output_type": "stream",
     "text": [
      "Hash SHA-256: 37deff0f3fda2df3fca21a68a5b5f842619cea22ff0a02e28bc65994a048fe45\n"
     ]
    }
   ],
   "source": [
    "# Data yang akan di-hash\n",
    "data = \"selamat datang di CIT\".encode()\n",
    "\n",
    "# Buat objek hashing menggunakan SHA-256\n",
    "digest = hashes.Hash(hashes.SHA256(), backend=default_backend())\n",
    "\n",
    "# Masukkan data ke dalam hash function\n",
    "digest.update(data)\n",
    "\n",
    "# Dapatkan hasil hash dalam format hexdigest\n",
    "hashed_output = digest.finalize().hex()\n",
    "\n",
    "print(\"Hash SHA-256:\", hashed_output)"
   ]
  },
  {
   "cell_type": "markdown",
   "metadata": {},
   "source": [
    "1. Coba run code diatas beberapa kali? Apakah hasilnya berubah\n",
    "2. Ganti dengan kata yang lain apakah berubah?\n"
   ]
  },
  {
   "cell_type": "markdown",
   "metadata": {},
   "source": [
    "jawab:\n",
    "1. hasilnya tidak berubah ketika dirun beberapa kali.\n",
    "2. ketika diganti dengan kata yang lain, baru hasilnya akan berubah."
   ]
  },
  {
   "cell_type": "code",
   "execution_count": 12,
   "metadata": {},
   "outputs": [
    {
     "name": "stdout",
     "output_type": "stream",
     "text": [
      "Salt (Base64): I1lhufbWNUmoVgXSJIsfIw==\n",
      "Hash SHA-256 dengan Salt: 1a3061c62b60c29064a7ca3d19ea49a0c68b8181cacc89082a0acb8489e628ed\n"
     ]
    }
   ],
   "source": [
    "import os, base64\n",
    "\n",
    "# Buat salt acak (16 bytes)\n",
    "salt = os.urandom(16)\n",
    "\n",
    "# Buat objek hashing menggunakan SHA-256\n",
    "digest = hashes.Hash(hashes.SHA256(), backend=default_backend())\n",
    "\n",
    "# Masukkan salt + data ke dalam hash function\n",
    "digest.update(salt + data)\n",
    "\n",
    "# Dapatkan hasil hash dalam format hexdigest\n",
    "hashed_output_salted = digest.finalize().hex()\n",
    "\n",
    "\n",
    "# Cetak hasil hashing\n",
    "print(\"Salt (Base64):\", base64.b64encode(salt).decode())\n",
    "print(\"Hash SHA-256 dengan Salt:\", hashed_output_salted)\n"
   ]
  },
  {
   "cell_type": "markdown",
   "metadata": {},
   "source": [
    "3. Coba run code diatas beberapa kali? Apakah hasilnya berubah\n",
    "4. Apa kegunaan penambahan \"salt\" pada kode diatas?\n",
    "5. Jelaskan kegunaan metode ini untuk menangani \"Rainbow Table Attack\""
   ]
  },
  {
   "cell_type": "markdown",
   "metadata": {},
   "source": [
    "jawab:\n",
    "\n",
    "3. ketika dirun berulang kali, hasilnya akan berubah terus menerus.\n",
    "\n",
    "4. penambahan \"salt\" digunakan sebagai keamanan ganda (double security). jika hasilnya tidak ditambah dengan salt, maka nilai hash dari input data yang sama akan selalu menghasilkan hasil yang sama. (seperti contoh dari soal sebelumnya).\n",
    "\n",
    "5. Rainbow Table Attack adalah metode di mana penyerang menggunakan tabel precomputed hash untuk mencocokkan nilai hash yang ada [sumber: ChatGPT]. Dengan adanya penambahan salt secara random ke hasil data yang telah melalui proses hash, tabel precomputed menjadi tidak berguna karena setiap nilai hash yang dihasilkan bersifat unik meskipun data atau pesan yang ingin disampaikan pada awalnya tetap sama."
   ]
  },
  {
   "cell_type": "code",
   "execution_count": 126,
   "metadata": {},
   "outputs": [
    {
     "name": "stdout",
     "output_type": "stream",
     "text": [
      "Salt (Base64): g+49HRBda8+Qf4m3JF5Trg==\n",
      "Derived Hash (Base64): Pfn+9urrm58Dm+XaOaw0Zk2VfvHn4zMcBzkWGbHVkCQ=\n"
     ]
    }
   ],
   "source": [
    "from cryptography.hazmat.primitives.kdf.pbkdf2 import PBKDF2HMAC\n",
    "\n",
    "password = \"mypassword\".encode()\n",
    "\n",
    "# Buat salt acak (16 bytes)\n",
    "salt = os.urandom(16)\n",
    "\n",
    "# Gunakan PBKDF2HMAC untuk membuat hash\n",
    "kdf = PBKDF2HMAC(\n",
    "    algorithm=hashes.SHA256(),\n",
    "    length=32,\n",
    "    salt=salt,\n",
    "    iterations=100000,\n",
    ")\n",
    "\n",
    "hashed_password = kdf.derive(password)\n",
    "\n",
    "print(\"Salt (Base64):\", base64.b64encode(salt).decode())\n",
    "print(\"Derived Hash (Base64):\", base64.b64encode(hashed_password).decode())\n"
   ]
  },
  {
   "cell_type": "markdown",
   "metadata": {},
   "source": [
    "6. Jelaskan mengapa password perlu dibuat hashnya dan bukan menggunakan enskripsi simetris atau asimetris\n",
    "7. Mengapa perlu iterasi hashing yang cukup banyak pada algoritma di atas\n",
    "8. Mengapa pendekatan ini berguna untuk menghadapi percobaan serangan brute force?"
   ]
  },
  {
   "cell_type": "markdown",
   "metadata": {},
   "source": [
    "Jawab:\n",
    "\n",
    "6. password perlu dibuat hashnya agar password dapat disimpan secara aman tanpa perlu menyimpan password aslinya. Sehingga jika terjadi kebocoran data, password aslinya tetap aman karena tidak bisa dikembalikan dari hash (one-way function). Dengan metode hashing, hasil hash saat proses autentikasi hanya perlu dibandingkan tanpa perlu menyimpan password aslinya.\n",
    "\n",
    "7. iterasi hashing yang banyak diperlukan agar dapat meningkatkan keamanan data/pesan yang dikirim. Semakin banyak jumlah iterasi, maka serangan brute force atau dictionary attack dapat semakin diperlambat. Selain itu, banyaknya iterasi juga menghambat penyerangan seperti serangan GPU/ASIC karena setiap password yang ditebak membutuhkan lebih banyak daya komputasi dan waktu untuk diproses.\n",
    "\n",
    "8. pendekatan ini sangat berguna dalam menghadapi serangan brute force karena jika terjadi kebocoran data/peretasan, maka password aslinya tetap aman karena tidak dikembalikan dari proses hashingnya. Selain itu, semakin banyak iterasi yang digunakan dan ditambahkan dalam proses hashing, semakin besar pula biaya dan waktu yang diperlukan oleh penyerang untuk membuat kombinasi password yang mungkin dan mencoba untuk meretas data."
   ]
  },
  {
   "cell_type": "markdown",
   "metadata": {},
   "source": [
    "### Buatlah code untuk enkripsi dan dekripsi sebuah pesan singkat, namun key nya adalah password yang dibuat menggunakan hash\n"
   ]
  },
  {
   "cell_type": "code",
   "execution_count": 5,
   "metadata": {},
   "outputs": [
    {
     "name": "stdout",
     "output_type": "stream",
     "text": [
      "b'\\xfc\\xb0\\xad\\x8e\\x9b\\xc9\\xa3\\xba6Rm9\\x16\\x9ba\\xcf\\xb26b6\\xbfEE\\x13\\xb0v-\\x8fiI\\xa1\\xd8'\n",
      "Salt (Base64): g5r59FZsxWkzu4vyprHSNQ==\n",
      "Derived Hash (Base64): /LCtjpvJo7o2Um05Fpthz7I2Yja/RUUTsHYtj2lJodg=\n",
      "\n",
      "plain text: Ini adalah pesan rahasia, mohon jangan disebarluaskan!\n",
      "Ciphertext: 34928ca6dd43049f404692b8d794860c445782e3ddcd62563c87fe82ab49acb360f80bd48b7252932c2a9e1754df4f657a8ae7504a290e54cc83b48ba972a315dd463e7d3a895aae086e48ec20a6f8ad\n",
      "Decrypted Text: Ini adalah pesan rahasia, mohon jangan disebarluaskan!\n"
     ]
    }
   ],
   "source": [
    "import os, base64\n",
    "from cryptography.hazmat.primitives.ciphers import Cipher, algorithms, modes\n",
    "from cryptography.hazmat.primitives import padding\n",
    "from cryptography.hazmat.backends import default_backend\n",
    "from cryptography.hazmat.primitives import hashes\n",
    "from cryptography.hazmat.primitives.kdf.pbkdf2 import PBKDF2HMAC\n",
    "\n",
    "password = \"Calvin2023\".encode()\n",
    "salt = os.urandom(16) # Buat salt acak (16 bytes)\n",
    "\n",
    "# Gunakan PBKDF2HMAC untuk membuat hash\n",
    "kdf = PBKDF2HMAC(\n",
    "    algorithm=hashes.SHA256(),\n",
    "    length=32,\n",
    "    salt=salt,\n",
    "    iterations=100000,\n",
    ")\n",
    "\n",
    "key = kdf.derive(password) # key nya adalah hashed password\n",
    "\n",
    "print(key)\n",
    "print(\"Salt (Base64):\", base64.b64encode(salt).decode())\n",
    "print(\"Derived Hash (Base64):\", base64.b64encode(key).decode())\n",
    "print()\n",
    "\n",
    "# Fungsi untuk mengenkripsi teks\n",
    "def encrypt(plaintext, key):\n",
    "    iv = os.urandom(16)\n",
    "    cipher = Cipher(algorithms.AES(key), modes.CBC(iv), backend=default_backend())\n",
    "\n",
    "    padder = padding.PKCS7(128).padder()\n",
    "    padded_data = padder.update(plaintext.encode()) + padder.finalize()\n",
    "\n",
    "    encryptor = cipher.encryptor() \n",
    "    ciphertext = encryptor.update(padded_data) + encryptor.finalize() \n",
    "\n",
    "    return iv + ciphertext # Gabungkan IV dengan ciphertext\n",
    "\n",
    "# Fungsi untuk mendekripsi teks\n",
    "def decrypt(ciphertext, key):\n",
    "    iv = ciphertext[:16] \n",
    "    encrypted_data = ciphertext[16:]\n",
    "\n",
    "    cipher = Cipher(algorithms.AES(key), modes.CBC(iv), backend=default_backend())\n",
    "\n",
    "    decryptor = cipher.decryptor() \n",
    "    decrypted_padded = decryptor.update(encrypted_data) + decryptor.finalize()\n",
    "\n",
    "    unpadder = padding.PKCS7(128).unpadder() \n",
    "    plaintext = unpadder.update(decrypted_padded) + unpadder.finalize()\n",
    "\n",
    "    return plaintext.decode()\n",
    "\n",
    "\n",
    "# Proses Enkripsi dan Dekripsi:\n",
    "message = \"Ini adalah pesan rahasia, mohon jangan disebarluaskan!\"\n",
    "print(f\"plain text: {message}\")\n",
    "\n",
    "# Enkripsi\n",
    "ciphertext = encrypt(message, key)\n",
    "print(f\"Ciphertext: {ciphertext.hex()}\")\n",
    "\n",
    "# Dekripsi\n",
    "decrypted_text = decrypt(ciphertext, key)\n",
    "print(f\"Decrypted Text: {decrypted_text}\")"
   ]
  },
  {
   "cell_type": "markdown",
   "metadata": {},
   "source": []
  }
 ],
 "metadata": {
  "kernelspec": {
   "display_name": "Python 3",
   "language": "python",
   "name": "python3"
  },
  "language_info": {
   "codemirror_mode": {
    "name": "ipython",
    "version": 3
   },
   "file_extension": ".py",
   "mimetype": "text/x-python",
   "name": "python",
   "nbconvert_exporter": "python",
   "pygments_lexer": "ipython3",
   "version": "3.11.4"
  }
 },
 "nbformat": 4,
 "nbformat_minor": 2
}
