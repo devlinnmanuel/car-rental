{
 "cells": [
  {
   "cell_type": "code",
   "execution_count": 1,
   "metadata": {},
   "outputs": [
    {
     "name": "stdout",
     "output_type": "stream",
     "text": [
      "Requirement already satisfied: cryptography in c:\\python311\\lib\\site-packages (44.0.0)\n",
      "Requirement already satisfied: cffi>=1.12 in c:\\python311\\lib\\site-packages (from cryptography) (1.16.0)\n",
      "Requirement already satisfied: pycparser in c:\\python311\\lib\\site-packages (from cffi>=1.12->cryptography) (2.21)\n",
      "Note: you may need to restart the kernel to use updated packages.\n"
     ]
    },
    {
     "name": "stderr",
     "output_type": "stream",
     "text": [
      "WARNING: Ignoring invalid distribution ~ip (c:\\Python311\\Lib\\site-packages)\n",
      "DEPRECATION: Loading egg at c:\\python311\\lib\\site-packages\\vboxapi-1.0-py3.11.egg is deprecated. pip 25.1 will enforce this behaviour change. A possible replacement is to use pip for package installation. Discussion can be found at https://github.com/pypa/pip/issues/12330\n",
      "WARNING: Ignoring invalid distribution ~ip (c:\\Python311\\Lib\\site-packages)\n",
      "WARNING: Ignoring invalid distribution ~ip (c:\\Python311\\Lib\\site-packages)\n",
      "\n",
      "[notice] A new release of pip is available: 25.0 -> 25.0.1\n",
      "[notice] To update, run: python.exe -m pip install --upgrade pip\n"
     ]
    }
   ],
   "source": [
    "pip install cryptography"
   ]
  },
  {
   "cell_type": "code",
   "execution_count": 2,
   "metadata": {},
   "outputs": [],
   "source": [
    "import os\n",
    "import hashlib\n",
    "from cryptography.hazmat.primitives.kdf.pbkdf2 import PBKDF2HMAC\n",
    "from cryptography.hazmat.primitives.hashes import SHA256\n",
    "from cryptography.hazmat.primitives.ciphers.aead import AESGCM"
   ]
  },
  {
   "cell_type": "code",
   "execution_count": 3,
   "metadata": {},
   "outputs": [],
   "source": [
    "# Fungsi untuk menghasilkan kunci dari password menggunakan PBKDF2HMAC\n",
    "def derive_key_from_password(password: str, salt: bytes):\n",
    "    kdf = PBKDF2HMAC(\n",
    "        algorithm=SHA256(),\n",
    "        length=32,  # AES-256 membutuhkan kunci 32 byte\n",
    "        salt=salt,\n",
    "        iterations=100000  # Iterasi tinggi untuk keamanan lebih baik\n",
    "    )\n",
    "    return kdf.derive(password.encode())\n"
   ]
  },
  {
   "cell_type": "code",
   "execution_count": 4,
   "metadata": {},
   "outputs": [],
   "source": [
    "\n",
    "# Fungsi untuk mengenkripsi file [yang dikirim = salt, iv, dan hasil keynya]\n",
    "def encrypt_file(input_file, output_file, password):\n",
    "    salt = os.urandom(16)  # Menghasilkan salt acak\n",
    "    iv = os.urandom(12)  # AES-GCM membutuhkan IV 12 byte\n",
    "    \n",
    "    key = derive_key_from_password(password, salt)  # Kunci dari password\n",
    "    aesgcm = AESGCM(key)  # Inisialisasi AES-GCM\n",
    "\n",
    "    # Membaca file dalam mode binary\n",
    "    with open(input_file, 'rb') as f:\n",
    "        plaintext = f.read()\n",
    "\n",
    "    # Enkripsi dengan AES-GCM\n",
    "    ciphertext = aesgcm.encrypt(iv, plaintext, None)\n",
    "\n",
    "    # Menyimpan salt + IV + ciphertext ke dalam file output\n",
    "    with open(output_file, 'wb') as f:\n",
    "        f.write(salt+ iv + ciphertext)\n",
    "\n",
    "    print(f\"File '{input_file}' berhasil dienkripsi sebagai '{output_file}'.\")\n",
    "    print(f\"key: {key.hex()}\")\n",
    "    return key.hex()\n",
    "\n"
   ]
  },
  {
   "cell_type": "code",
   "execution_count": 5,
   "metadata": {},
   "outputs": [
    {
     "name": "stdout",
     "output_type": "stream",
     "text": [
      "File 'rahasia.txt' berhasil dienkripsi sebagai 'document_encrypted.bin'.\n",
      "key: b568fc05ef564d0a6c2678b880ec91e551f051445cb24c01b9be4b4ec410e8c7\n"
     ]
    }
   ],
   "source": [
    "# Contoh penggunaan\n",
    "password = 'mypassword123'\n",
    "key = encrypt_file('rahasia.txt', 'document_encrypted.bin', password)"
   ]
  },
  {
   "cell_type": "code",
   "execution_count": 6,
   "metadata": {},
   "outputs": [],
   "source": [
    "# Fungsi untuk mendekripsi file\n",
    "def decrypt_file(input_file, output_file, key_hex):\n",
    "    # Membaca file terenkripsi\n",
    "    with open(input_file, 'rb') as f:\n",
    "        encrypted_data = f.read()\n",
    "        \n",
    "    # Inisialisasi AES-GCM dengan key dan IV yang sama\n",
    "    salt = encrypted_data[0:16]\n",
    "    iv = encrypted_data[16:28]\n",
    "    ciphertext= encrypted_data[28:]\n",
    "\n",
    "    key = derive_key_from_password(password, salt)\n",
    "    aesgcm = AESGCM(key)\n",
    "\n",
    "    # Dekripsi data\n",
    "    plaintext = aesgcm.decrypt(iv, ciphertext, None)\n",
    "\n",
    "    # Menyimpan hasil dekripsi ke file\n",
    "    with open(output_file, 'wb') as f:\n",
    "        f.write(plaintext)\n",
    "\n",
    "    print(f\"File '{input_file}' berhasil didekripsi sebagai '{output_file}'.\")\n",
    "\n"
   ]
  },
  {
   "cell_type": "code",
   "execution_count": 7,
   "metadata": {},
   "outputs": [
    {
     "name": "stdout",
     "output_type": "stream",
     "text": [
      "File 'document_encrypted.bin' berhasil didekripsi sebagai 'document_decrypted.txt'.\n"
     ]
    }
   ],
   "source": [
    "# Contoh penggunaan: Mendekripsi file Word atau Excel\n",
    "decrypt_file('document_encrypted.bin', 'document_decrypted.txt',key)"
   ]
  },
  {
   "cell_type": "code",
   "execution_count": 8,
   "metadata": {},
   "outputs": [
    {
     "name": "stdout",
     "output_type": "stream",
     "text": [
      "File 'document_encrypted_albern' berhasil didekripsi sebagai 'document_decrypted_albern.txt'.\n"
     ]
    }
   ],
   "source": [
    "# Contoh penggunaan: Mendekripsi file Word atau Excel\n",
    "decrypt_file('document_encrypted_albern', 'document_decrypted_albern.txt',key)"
   ]
  },
  {
   "cell_type": "code",
   "execution_count": 11,
   "metadata": {},
   "outputs": [
    {
     "name": "stdout",
     "output_type": "stream",
     "text": [
      "File 'rahasia.txt' berhasil dienkripsi sebagai 'document_encrypted.bin'.\n",
      "key: 9ae1056da0da4efc1aa56cc07df8f2a919fa78f8151686d308428194863d6f2d\n",
      "File 'document_encrypted_alfandi' berhasil didekripsi sebagai 'document_decrypted_alfandi.txt'.\n"
     ]
    }
   ],
   "source": [
    "password = 'kenrikyoo123'\n",
    "key = encrypt_file('rahasia.txt', 'document_encrypted.bin', password)\n",
    "\n",
    "decrypt_file('document_encrypted_alfandi', 'document_decrypted_alfandi.txt', key)"
   ]
  },
  {
   "cell_type": "code",
   "execution_count": 12,
   "metadata": {},
   "outputs": [
    {
     "name": "stdout",
     "output_type": "stream",
     "text": [
      "File 'message.txt' berhasil dienkripsi sebagai 'document_encrypted.bin'.\n",
      "key: 2af2779cfa1913748b262ba899557ebb1b7259fc0fdeffa5bb898ecbff692095\n"
     ]
    }
   ],
   "source": [
    "password = 'secretpassword123'\n",
    "key = encrypt_file('message.txt', 'document_encrypted.bin', password)"
   ]
  }
 ],
 "metadata": {
  "kernelspec": {
   "display_name": "Python 3",
   "language": "python",
   "name": "python3"
  },
  "language_info": {
   "codemirror_mode": {
    "name": "ipython",
    "version": 3
   },
   "file_extension": ".py",
   "mimetype": "text/x-python",
   "name": "python",
   "nbconvert_exporter": "python",
   "pygments_lexer": "ipython3",
   "version": "3.11.4"
  }
 },
 "nbformat": 4,
 "nbformat_minor": 2
}
