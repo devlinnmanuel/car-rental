{
 "cells": [
  {
   "cell_type": "code",
   "execution_count": 8,
   "metadata": {},
   "outputs": [
    {
     "name": "stdout",
     "output_type": "stream",
     "text": [
      "key: f9439311a0e10b6377596810d3146e803d96eeeea8d638c13fab1479d36894ba\n",
      "Ciphertext: 8d70d8b5ca07fc8b40e7bb54ddc5db0f6f2d1c5569b52c7d27e58a648389cae48a061798fa4239ee76e3233f72c67f98dfabfb8e595da0dd502e79cc804d6806fb7ef91bb4c68fdb12de1958837a2bee198e4fd36b86003667814bafbae319dc\n",
      "Decrypted Text: Jodoh bukanlah orang yang kita inginkan, tapi orang yang kita perlukan.\n"
     ]
    }
   ],
   "source": [
    "from cryptography.hazmat.primitives.ciphers import Cipher, algorithms, modes\n",
    "from cryptography.hazmat.primitives import padding\n",
    "from cryptography.hazmat.backends import default_backend\n",
    "import os\n",
    "\n",
    "# Fungsi untuk mengenkripsi teks\n",
    "def encrypt(plaintext, key):\n",
    "    ###### Isikan kode anda, gunakan algoritma AES dan mode CBC######\n",
    "    iv = os.urandom(16)\n",
    "    cipher = Cipher(algorithms.AES(key), modes.CBC(iv), backend=default_backend())\n",
    "\n",
    "    padder = padding.PKCS7(128).padder()\n",
    "    padded_data = padder.update(plaintext.encode()) + padder.finalize()\n",
    "\n",
    "    encryptor = cipher.encryptor() \n",
    "    ciphertext = encryptor.update(padded_data) + encryptor.finalize() \n",
    "\n",
    "    return iv + ciphertext  # Gabungkan IV dengan ciphertext\n",
    "\n",
    "# Fungsi untuk mendekripsi teks\n",
    "def decrypt(ciphertext, key):\n",
    "    ###### Isikan kode anda ######\n",
    "    iv = ciphertext[:16] \n",
    "    encrypted_data = ciphertext[16:]\n",
    "\n",
    "    cipher = Cipher(algorithms.AES(key), modes.CBC(iv), backend=default_backend())\n",
    "\n",
    "    decryptor = cipher.decryptor() \n",
    "    decrypted_padded = decryptor.update(encrypted_data) + decryptor.finalize()\n",
    "\n",
    "    unpadder = padding.PKCS7(128).unpadder() \n",
    "    plaintext = unpadder.update(decrypted_padded) + unpadder.finalize()\n",
    "\n",
    "    return plaintext.decode()\n",
    "\n",
    "# Kunci AES 256-bit (32 byte)\n",
    "key = os.urandom(32)\n",
    "print(f\"key: {key.hex()}\")\n",
    "# Input teks yang akan dienkripsi\n",
    "plaintext = \"Jodoh bukanlah orang yang kita inginkan, tapi orang yang kita perlukan.\"\n",
    "\n",
    "# Enkripsi\n",
    "# key = bytes.fromhex(\"0a8b1e7a51de7e07cad3fbc52c72c2fed0c2699c30e93126da1e996027c13904\")\n",
    "ciphertext = encrypt(plaintext, key)\n",
    "print(f\"Ciphertext: {ciphertext.hex()}\")\n",
    "\n",
    "# Dekripsi\n",
    "# key = bytes.fromhex(\"ad068f334b965def24ba3a6fc84656bf5b85c22ede6f377ece7316824add3c6c\")\n",
    "# ciphertext = bytes.fromhex(\"07aa2175e60d66ea96e39bbe6345e6aef8a8061122bb0f5e3b14f1729bee314d\")\n",
    "decrypted_text = decrypt(ciphertext, key)\n",
    "print(f\"Decrypted Text: {decrypted_text}\")"
   ]
  },
  {
   "cell_type": "markdown",
   "metadata": {},
   "source": [
    "1. Isikan kode-kode program pada petunjuk yang telah diberikan\n",
    "2. Kirimkan pesan yang telah dienkripsi ke teman anda apakah mereka bisa membacanya?\n",
    "3. Berikan key nya dan minta mereka untuk coba membacanya dengan membuat program dekripsinya, apakah isi pesan berhasil dibaca?\n",
    "3. Cobalah dengan isi pesan yang berbeda-beda\n",
    "4. Gunakan key yang sama seperti sebelumnya (tanpa generate key random yang baru) dan gunakan isi pesan yang sama seperti sebelumnya, apakah hasil enkripsinya masih sama dengan sebelumnya? jelaskan\n",
    "5. Apakah tujuan penggunaan iv (initialization vector) pada tahap enkripsi"
   ]
  },
  {
   "cell_type": "markdown",
   "metadata": {},
   "source": []
  },
  {
   "cell_type": "markdown",
   "metadata": {},
   "source": [
    "JAWABAN:\n",
    "\n",
    "1. sudah diisi.\n",
    "2. tidak bisa, akan error karena tidak diberikan key nya.\n",
    "3. bisa dibaca, karna sudah ada key nya.\n",
    "4. sudah dicoba.\n",
    "5. hasil enkripsinya beda2, mode operasi dengan Initialization Vector (IV) seperti CBC, CFB, atau GCM, hasil enkripsi bisa berbeda karena IV yang berubah akan menyebabkan perubahan dalam ciphertext meskipun kunci dan plaintextnya sama.\n",
    "6. iv digunakan untuk membuat ciphertext yang berbeda setiap kali digenerate.\n",
    "iv akan mencegah serangan pola di mana seorang penyerang dapat mengenali pola dalam ciphertext jika plaintext yang sama selalu menghasilkan ciphertext yang sama. (keamanan yang double)."
   ]
  },
  {
   "cell_type": "code",
   "execution_count": 34,
   "metadata": {},
   "outputs": [
    {
     "ename": "ValueError",
     "evalue": "Invalid padding bytes.",
     "output_type": "error",
     "traceback": [
      "\u001b[1;31m---------------------------------------------------------------------------\u001b[0m",
      "\u001b[1;31mValueError\u001b[0m                                Traceback (most recent call last)",
      "Cell \u001b[1;32mIn[34], line 3\u001b[0m\n\u001b[0;32m      1\u001b[0m \u001b[38;5;66;03m# Nomor 2\u001b[39;00m\n\u001b[0;32m      2\u001b[0m ciphertext \u001b[38;5;241m=\u001b[39m \u001b[38;5;28mbytes\u001b[39m\u001b[38;5;241m.\u001b[39mfromhex(\u001b[38;5;124m\"\u001b[39m\u001b[38;5;124m25c4306d3642f06558d79c394b0d6dc130115c66e44fb20e068a1f9eae2385f9d5afc596ca46c1eab16a6f330d90d59754ad8a8cc33d3217a93d6678a2b060dda879fdf2232f101839c21114fe6f849b35abc10b3ee6692a4755ca8de13ec6c327ca12aba4ff6fc045793cf9d2389de71c7c75de26736de1cc3318c2cd5e3b127cc6512408df518facdcf84bd32497b6d6d2ac89f5bfccee5bf9731d53cd06e5c6f187341b47f067b823bcd03d77e499c2daded6ecd74e302c28ac6804fad9776faaca7bfd70c424b8b997c38984d3a189b8578a3b6ba03963f7d7ae8eb4ef113163f2894f146242b97b6d63d58fcecebaa117432e657dc8f26784e5ba2c7cf11a9055a9256f737e8b4da41e9d633d1864f556ef51023a34c431692d789d977f\u001b[39m\u001b[38;5;124m\"\u001b[39m)\n\u001b[1;32m----> 3\u001b[0m decrypted_text \u001b[38;5;241m=\u001b[39m \u001b[43mdecrypt\u001b[49m\u001b[43m(\u001b[49m\u001b[43mciphertext\u001b[49m\u001b[43m,\u001b[49m\u001b[43m \u001b[49m\u001b[43mkey\u001b[49m\u001b[43m)\u001b[49m\n\u001b[0;32m      4\u001b[0m \u001b[38;5;28mprint\u001b[39m(\u001b[38;5;124mf\u001b[39m\u001b[38;5;124m\"\u001b[39m\u001b[38;5;124mDecrypted Text: \u001b[39m\u001b[38;5;132;01m{\u001b[39;00mdecrypted_text\u001b[38;5;132;01m}\u001b[39;00m\u001b[38;5;124m\"\u001b[39m)\n",
      "Cell \u001b[1;32mIn[22], line 32\u001b[0m, in \u001b[0;36mdecrypt\u001b[1;34m(ciphertext, key)\u001b[0m\n\u001b[0;32m     29\u001b[0m decrypted_padded \u001b[38;5;241m=\u001b[39m decryptor\u001b[38;5;241m.\u001b[39mupdate(encrypted_data) \u001b[38;5;241m+\u001b[39m decryptor\u001b[38;5;241m.\u001b[39mfinalize()\n\u001b[0;32m     31\u001b[0m unpadder \u001b[38;5;241m=\u001b[39m padding\u001b[38;5;241m.\u001b[39mPKCS7(\u001b[38;5;241m128\u001b[39m)\u001b[38;5;241m.\u001b[39munpadder() \n\u001b[1;32m---> 32\u001b[0m plaintext \u001b[38;5;241m=\u001b[39m unpadder\u001b[38;5;241m.\u001b[39mupdate(decrypted_padded) \u001b[38;5;241m+\u001b[39m \u001b[43munpadder\u001b[49m\u001b[38;5;241;43m.\u001b[39;49m\u001b[43mfinalize\u001b[49m\u001b[43m(\u001b[49m\u001b[43m)\u001b[49m\n\u001b[0;32m     34\u001b[0m \u001b[38;5;28;01mreturn\u001b[39;00m plaintext\u001b[38;5;241m.\u001b[39mdecode()\n",
      "\u001b[1;31mValueError\u001b[0m: Invalid padding bytes."
     ]
    }
   ],
   "source": [
    "# Nomor 2\n",
    "ciphertext = bytes.fromhex(\"25c4306d3642f06558d79c394b0d6dc130115c66e44fb20e068a1f9eae2385f9d5afc596ca46c1eab16a6f330d90d59754ad8a8cc33d3217a93d6678a2b060dda879fdf2232f101839c21114fe6f849b35abc10b3ee6692a4755ca8de13ec6c327ca12aba4ff6fc045793cf9d2389de71c7c75de26736de1cc3318c2cd5e3b127cc6512408df518facdcf84bd32497b6d6d2ac89f5bfccee5bf9731d53cd06e5c6f187341b47f067b823bcd03d77e499c2daded6ecd74e302c28ac6804fad9776faaca7bfd70c424b8b997c38984d3a189b8578a3b6ba03963f7d7ae8eb4ef113163f2894f146242b97b6d63d58fcecebaa117432e657dc8f26784e5ba2c7cf11a9055a9256f737e8b4da41e9d633d1864f556ef51023a34c431692d789d977f\")\n",
    "decrypted_text = decrypt(ciphertext, key)\n",
    "print(f\"Decrypted Text: {decrypted_text}\")"
   ]
  },
  {
   "cell_type": "code",
   "execution_count": 4,
   "metadata": {},
   "outputs": [
    {
     "name": "stdout",
     "output_type": "stream",
     "text": [
      "Decrypted Text: 'beli paket valentine jangan anonymous, langsung tembak saja. kalau anonymous, yang terima sengsara, yang ngirim juga sengsara. mending jelas ketolak atau diterima. kalau ditolak bukan end of your history karena masih ada pengharapan ke depannya.'  ~ DT 2025\n"
     ]
    }
   ],
   "source": [
    "# Nomor 3\n",
    "key = bytes.fromhex(\"e06606e9d8047078f1fa737232fd3caae5e17e0952a1821c31ca9b73507bfc2e\")\n",
    "ciphertext = bytes.fromhex(\"25c4306d3642f06558d79c394b0d6dc130115c66e44fb20e068a1f9eae2385f9d5afc596ca46c1eab16a6f330d90d59754ad8a8cc33d3217a93d6678a2b060dda879fdf2232f101839c21114fe6f849b35abc10b3ee6692a4755ca8de13ec6c327ca12aba4ff6fc045793cf9d2389de71c7c75de26736de1cc3318c2cd5e3b127cc6512408df518facdcf84bd32497b6d6d2ac89f5bfccee5bf9731d53cd06e5c6f187341b47f067b823bcd03d77e499c2daded6ecd74e302c28ac6804fad9776faaca7bfd70c424b8b997c38984d3a189b8578a3b6ba03963f7d7ae8eb4ef113163f2894f146242b97b6d63d58fcecebaa117432e657dc8f26784e5ba2c7cf11a9055a9256f737e8b4da41e9d633d1864f556ef51023a34c431692d789d977f\")\n",
    "decrypted_text = decrypt(ciphertext, key)\n",
    "print(f\"Decrypted Text: {decrypted_text}\")"
   ]
  },
  {
   "cell_type": "code",
   "execution_count": 24,
   "metadata": {},
   "outputs": [
    {
     "name": "stdout",
     "output_type": "stream",
     "text": [
      "Decrypted Text: tapi gatau siapa yang mau ditembakk\n"
     ]
    }
   ],
   "source": [
    "# Nomor 4\n",
    "key = bytes.fromhex(\"459d5bf13f02838c20d095124db38b621a5c5df80ff0de8b40d00553238cc53f\")\n",
    "ciphertext = bytes.fromhex(\"d83c27d371ef4a7017f95743580487c248d6854831525cf52fb0ccca136bd0ad624589d6c504517b5397a7a35908e233f811182da3854d7846c010e4b0b3232e\")\n",
    "decrypted_text = decrypt(ciphertext, key)\n",
    "print(f\"Decrypted Text: {decrypted_text}\")"
   ]
  },
  {
   "cell_type": "code",
   "execution_count": 5,
   "metadata": {},
   "outputs": [
    {
     "name": "stdout",
     "output_type": "stream",
     "text": [
      "Decrypted Text: c460e28591b41f49384177fe06ab35fb91c15b399e92c28b6\n"
     ]
    }
   ],
   "source": [
    "# Nomor 4\n",
    "key = bytes.fromhex(\"c72c031ffc8aeb3899766041dfb16e51ec84815d5134aa86d8daff74e6bd1fff\")\n",
    "ciphertext = bytes.fromhex(\"87df20611004801e9ccc1e29993e93098e89e63127135c4733af91c1842891c82f945dbdb3bba8a18bdda3af3e3c01c86df37d8d2f76a1335658e0fe48d104741afc457b68c94f398a539ef11b8a5f86\")\n",
    "decrypted_text = decrypt(ciphertext, key)\n",
    "print(f\"Decrypted Text: {decrypted_text}\")"
   ]
  },
  {
   "cell_type": "code",
   "execution_count": 33,
   "metadata": {},
   "outputs": [
    {
     "name": "stdout",
     "output_type": "stream",
     "text": [
      "Key: b'E\\x9d[\\xf1?\\x02\\x83\\x8c \\xd0\\x95\\x12M\\xb3\\x8bb\\x1a\\\\]\\xf8\\x0f\\xf0\\xde\\x8b@\\xd0\\x05S#\\x8c\\xc5?'\n",
      "Ciphertext: 978a27cf4915b22b74dd59fd2a84d1717edf1076eea9f505ef77b36554aa6b6dc14d7210838cda62249b1d0a51517c0f2982c2da9782a6d47a076071f112802a518d0f2f35629c8666c7383ebb182ebfb008cbad1de6b01d62543258157334f9\n"
     ]
    }
   ],
   "source": [
    "# Nomor 5:\n",
    "key = bytes.fromhex(\"459d5bf13f02838c20d095124db38b621a5c5df80ff0de8b40d00553238cc53f\")\n",
    "ciphertext = encrypt(plaintext, key)\n",
    "print(f\"Key: {key}\")\n",
    "print(f\"Ciphertext: {ciphertext.hex()}\")"
   ]
  }
 ],
 "metadata": {
  "kernelspec": {
   "display_name": "Python 3",
   "language": "python",
   "name": "python3"
  },
  "language_info": {
   "codemirror_mode": {
    "name": "ipython",
    "version": 3
   },
   "file_extension": ".py",
   "mimetype": "text/x-python",
   "name": "python",
   "nbconvert_exporter": "python",
   "pygments_lexer": "ipython3",
   "version": "3.11.4"
  }
 },
 "nbformat": 4,
 "nbformat_minor": 2
}
