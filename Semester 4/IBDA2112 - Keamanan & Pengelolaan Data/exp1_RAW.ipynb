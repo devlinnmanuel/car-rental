{
 "cells": [
  {
   "cell_type": "markdown",
   "metadata": {},
   "source": [
    "Install library cryptography: pip install cryptography"
   ]
  },
  {
   "cell_type": "code",
   "execution_count": 2,
   "metadata": {},
   "outputs": [],
   "source": [
    "from cryptography.hazmat.primitives.ciphers import Cipher, algorithms, modes\n",
    "from cryptography.hazmat.primitives import padding\n",
    "from cryptography.hazmat.backends import default_backend\n",
    "import os"
   ]
  },
  {
   "cell_type": "code",
   "execution_count": 5,
   "metadata": {},
   "outputs": [],
   "source": [
    "# Fungsi untuk mengenkripsi teks\n",
    "def encrypt(plaintext, key):\n",
    "    iv = os.urandom(16)  # Generate IV (16 byte)\n",
    "    cipher = Cipher(algorithms.AES(key), modes.CBC(iv), backend=default_backend())\n",
    "\n",
    "    # Padding untuk memastikan ukuran blok 16 byte\n",
    "    padder = padding.PKCS7(128).padder()\n",
    "    padded_data = padder.update(plaintext.encode()) + padder.finalize()\n",
    "\n",
    "    encryptor = cipher.encryptor()\n",
    "    ciphertext = encryptor.update(padded_data) + encryptor.finalize()\n",
    "\n",
    "    return iv + ciphertext  # Gabungkan IV dengan ciphertext"
   ]
  },
  {
   "cell_type": "code",
   "execution_count": 4,
   "metadata": {},
   "outputs": [],
   "source": [
    "# Fungsi untuk mendekripsi teks\n",
    "def decrypt(ciphertext, key):\n",
    "    iv = ciphertext[:16]  # Ambil IV dari awal ciphertext\n",
    "    encrypted_data = ciphertext[16:]\n",
    "\n",
    "    cipher = Cipher(algorithms.AES(key), modes.CBC(iv), backend=default_backend())\n",
    "\n",
    "    decryptor = cipher.decryptor()\n",
    "    decrypted_padded = decryptor.update(encrypted_data) + decryptor.finalize()\n",
    "\n",
    "    # Hapus padding\n",
    "    unpadder = padding.PKCS7(128).unpadder()\n",
    "    plaintext = unpadder.update(decrypted_padded) + unpadder.finalize()\n",
    "\n",
    "    return plaintext.decode()"
   ]
  },
  {
   "cell_type": "code",
   "execution_count": 9,
   "metadata": {},
   "outputs": [
    {
     "name": "stdout",
     "output_type": "stream",
     "text": [
      "Ciphertext: 9b1b001d1834afe4132ba8468900fca3b6d3884b3b0e0ee6e2e65929a6bd4799d4fa2899e874f3900fa55a8eeb8ee678\n",
      "Decrypted Text: Ini pesan rahasia\n"
     ]
    }
   ],
   "source": [
    "# Kunci AES 256-bit (32 byte)\n",
    "key = os.urandom(32)\n",
    "\n",
    "# Input teks yang akan dienkripsi\n",
    "plaintext = \"Ini pesan rahasia\"\n",
    "\n",
    "# Enkripsi\n",
    "ciphertext = encrypt(plaintext, key)\n",
    "print(f\"Ciphertext: {ciphertext.hex()}\")\n",
    "\n",
    "# Dekripsi\n",
    "decrypted_text = decrypt(ciphertext, key)\n",
    "print(f\"Decrypted Text: {decrypted_text}\")"
   ]
  },
  {
   "cell_type": "markdown",
   "metadata": {},
   "source": [
    "1. Jelaskan perbedaan peran algoritma AES,  mode CBC dan padding\n",
    "2. Apakah yang digunakan kriptografi asimetris atau simetris jelaskan\n",
    "3. Pada fungsi decrypt gantilah menjadi iv=os.urandom(16), apa yang terjadi jelaskan\n",
    "4. Pada isi pesan plaintext, cobalah dari 1 huruf, 2 huruf dst. Lihatlah perubahan panjang chipertext, analisis perbedaannya\n",
    "5. Bagaimana praktis pengamanan'key' agar isi pesan tidak mudah diketahui "
   ]
  },
  {
   "cell_type": "code",
   "execution_count": 10,
   "metadata": {},
   "outputs": [
    {
     "name": "stdout",
     "output_type": "stream",
     "text": [
      "Mode CBC - Waktu Enkripsi: 0.000000 detik\n",
      "Ciphertext (CBC): f8e1bf3b59bd6236966c33d421c26bd67439cdefba01f6d640...\n",
      "\n",
      "Mode CFB - Waktu Enkripsi: 0.005996 detik\n",
      "Ciphertext (CFB): 9148ebd31960fcb2ee2acd22a8299f5423fb7af3c91d3813b2...\n",
      "\n",
      "Mode GCM - Waktu Enkripsi: 0.001001 detik\n",
      "Ciphertext (GCM): 082d766fa1c3a39c2a991ca289ff5069dbe584ba15ffd65220...\n",
      "\n"
     ]
    }
   ],
   "source": [
    "import time\n",
    "# Fungsi enkripsi dengan berbagai mode\n",
    "def encrypt_aes(plaintext, key, mode):\n",
    "    iv = os.urandom(16)\n",
    "    if mode == \"CBC\":\n",
    "        cipher_mode = modes.CBC(iv)\n",
    "    elif mode == \"CFB\":\n",
    "        cipher_mode = modes.CFB(iv)\n",
    "    elif mode == \"GCM\":\n",
    "        cipher_mode = modes.GCM(iv)\n",
    "    else:\n",
    "        raise ValueError(\"Mode tidak didukung\")\n",
    "\n",
    "    cipher = Cipher(algorithms.AES(key), cipher_mode, backend=default_backend())\n",
    "    plaintext_bytes = plaintext.encode()\n",
    "\n",
    "    # Padding hanya diperlukan untuk CBC\n",
    "    if mode == \"CBC\":\n",
    "        padder = padding.PKCS7(128).padder()\n",
    "        plaintext_bytes  = padder.update(plaintext_bytes)+ padder.finalize()\n",
    "\n",
    "    encryptor = cipher.encryptor()\n",
    "    ciphertext = encryptor.update(plaintext_bytes) + encryptor.finalize()\n",
    "\n",
    "    return iv + ciphertext\n",
    "\n",
    "# Uji performa mode AES\n",
    "key = os.urandom(32)\n",
    "plaintext = \"Data rahasia untuk eksperimen yang lebih kompleks.\"\n",
    "\n",
    "for mode in [\"CBC\", \"CFB\", \"GCM\"]:\n",
    "    start_time = time.time()\n",
    "    plaintext = \"Data rahasia untuk eksperimen yang lebih kompleks.\"\n",
    "    ciphertext = encrypt_aes(plaintext, key, mode)\n",
    "    end_time = time.time()\n",
    "    print(f\"Mode {mode} - Waktu Enkripsi: {end_time - start_time:.6f} detik\")\n",
    "    print(f\"Ciphertext ({mode}): {ciphertext.hex()[:50]}...\\n\")"
   ]
  },
  {
   "cell_type": "markdown",
   "metadata": {},
   "source": [
    "6. Apa kegunaan dan perbedaan masing-masing mode AES ini?"
   ]
  },
  {
   "cell_type": "code",
   "execution_count": 11,
   "metadata": {},
   "outputs": [
    {
     "name": "stdout",
     "output_type": "stream",
     "text": [
      "Memulai brute force pada kunci 4 karakter...\n",
      "Kunci ditemukan: abc1\n"
     ]
    }
   ],
   "source": [
    "from itertools import product\n",
    "import string\n",
    "\n",
    "# Fungsi brute force terhadap kunci pendek\n",
    "def brute_force_attack(target_ciphertext, correct_key):\n",
    "    charset = string.ascii_letters + string.digits\n",
    "    key_length = len(correct_key)\n",
    "    print(f\"Memulai brute force pada kunci {key_length} karakter...\")\n",
    "\n",
    "    for attempt in product(charset, repeat=key_length):\n",
    "        guessed_key = \"\".join(attempt).encode()\n",
    "        if guessed_key == correct_key:\n",
    "            print(f\"Kunci ditemukan: {guessed_key.decode()}\")\n",
    "            break\n",
    "\n",
    "# Simulasi kunci pendek (4 karakter)\n",
    "correct_key = b\"abc1\"\n",
    "\n",
    "ciphertext = encrypt_aes(\"Tes brute force\", correct_key.ljust(32, b'\\x00'), \"CBC\")\n",
    "\n",
    "# Menjalankan brute force\n",
    "brute_force_attack(ciphertext, correct_key)\n"
   ]
  },
  {
   "cell_type": "markdown",
   "metadata": {},
   "source": [
    "7. Cobalah berbagai variasi key dan key yang lebih panjang, amati prilakunya dan jelaskan mengapa AES direkomendasikan menggunakan panjang key 256 bit"
   ]
  },
  {
   "cell_type": "code",
   "execution_count": 23,
   "metadata": {},
   "outputs": [
    {
     "name": "stdout",
     "output_type": "stream",
     "text": [
      "Ciphertext (GCM): 2cacc3c111d768d9ba6809e46c9c9ce3672563ed93e02aa5bba7b01b09f1bde1c6\n",
      "\n",
      " Dekripsi Sukses: Pesan rahasia yang sangat penting\n",
      "\n",
      " Dekripsi Gagal Setelah Perubahan: [GCM DETECTED CHANGE] Dekripsi gagal: \n",
      "\n"
     ]
    }
   ],
   "source": [
    "# Fungsi Enkripsi AES-GCM\n",
    "def encrypt_gcm(plaintext, key):\n",
    "    iv = os.urandom(12)  # IV 12-byte untuk GCM\n",
    "    cipher = Cipher(algorithms.AES(key), modes.GCM(iv), backend=default_backend())\n",
    "    encryptor = cipher.encryptor()\n",
    "\n",
    "    ciphertext = encryptor.update(plaintext.encode()) + encryptor.finalize()\n",
    "    tag = encryptor.tag  # Authentication tag untuk verifikasi\n",
    "\n",
    "    return iv, ciphertext, tag  # Mengembalikan IV, Ciphertext, dan Tag\n",
    "\n",
    "# Fungsi Dekripsi AES-GCM\n",
    "def decrypt_gcm(iv, ciphertext, tag, key):\n",
    "    cipher = Cipher(algorithms.AES(key), modes.GCM(iv, tag), backend=default_backend())\n",
    "    decryptor = cipher.decryptor()\n",
    "\n",
    "    try:\n",
    "        decrypted_text = decryptor.update(ciphertext) + decryptor.finalize()\n",
    "        #print(f\"decript:{decrypted_text.hex()}\")\n",
    "        return decrypted_text.decode()\n",
    "    except Exception as e:\n",
    "        return f\"[GCM DETECTED CHANGE] Dekripsi gagal: {str(e)}\"\n",
    "\n",
    "# Buat kunci AES-256 (32 byte)\n",
    "key = os.urandom(32)\n",
    "plaintext = \"Pesan rahasia yang sangat penting\"\n",
    "\n",
    "# Enkripsi dengan AES-GCM\n",
    "iv, ciphertext, tag = encrypt_gcm(plaintext, key)\n",
    "print(f\"Ciphertext (GCM): {ciphertext.hex()}\\n\")\n",
    "\n",
    "# Dekripsi Tanpa Perubahan\n",
    "decrypted_text = decrypt_gcm(iv, ciphertext, tag, key)\n",
    "print(f\" Dekripsi Sukses: {decrypted_text}\\n\")\n",
    "\n",
    "# Mengubah Satu Byte di Ciphertext untuk Simulasi Serangan\n",
    "ciphertext_modified = bytearray(ciphertext)\n",
    "ciphertext_modified[5] ^= 0xFF  # Membalikkan satu byte pada index ke-5\n",
    "\n",
    "# Coba Dekripsi dengan Ciphertext yang Telah Diubah\n",
    "decrypted_text_modified = decrypt_gcm(iv, bytes(ciphertext_modified), tag, key)\n",
    "print(f\" Dekripsi Gagal Setelah Perubahan: {decrypted_text_modified}\\n\")\n"
   ]
  },
  {
   "cell_type": "code",
   "execution_count": 27,
   "metadata": {},
   "outputs": [
    {
     "name": "stdout",
     "output_type": "stream",
     "text": [
      "Ciphertext (CBC): 493f9c6880b161dad1d26a4c7d52993775a1f118460f2f7b8fa60af8c67154769b281c148c10e4f032a1ef5b775c3553\n",
      "\n",
      "decript:ae09fdeb7b24998ef8ba9dcc7b61ac6d6e672068618d7573206469726168617369616b616e0b0b0b0b0b0b0b0b0b0b0b\n",
      " CBC Dekripsi Setelah Perubahan: [CBC DETECTED ERROR] Dekripsi gagal: 'utf-8' codec can't decode byte 0xae in position 0: invalid start byte\n",
      "\n"
     ]
    }
   ],
   "source": [
    "# Fungsi Enkripsi AES-CBC dengan Padding PKCS7\n",
    "def encrypt_cbc(plaintext, key, iv):\n",
    "    cipher = Cipher(algorithms.AES(key), modes.CBC(iv), backend=default_backend())\n",
    "    encryptor = cipher.encryptor()\n",
    "\n",
    "    # Gunakan padding PKCS7 agar panjang plaintext menjadi kelipatan 16 byte\n",
    "    padder = padding.PKCS7(128).padder()\n",
    "    padded_plaintext = padder.update(plaintext.encode()) + padder.finalize()\n",
    "\n",
    "    ciphertext = encryptor.update(padded_plaintext) + encryptor.finalize()\n",
    "    return ciphertext\n",
    "\n",
    "# Fungsi Dekripsi AES-CBC dengan Unpadding PKCS7\n",
    "def decrypt_cbc(iv, ciphertext, key):\n",
    "    cipher = Cipher(algorithms.AES(key), modes.CBC(iv), backend=default_backend())\n",
    "    decryptor = cipher.decryptor()\n",
    "    \n",
    "    try:\n",
    "        decrypted_padded = decryptor.update(ciphertext) + decryptor.finalize()\n",
    "        print(f\"decript:{decrypted_padded.hex()}\")\n",
    "\n",
    "        # Hapus padding setelah dekripsi\n",
    "        unpadder = padding.PKCS7(128).unpadder()\n",
    "        decrypted_text = unpadder.update(decrypted_padded) + unpadder.finalize()\n",
    "        \n",
    "        return decrypted_text.decode()\n",
    "    \n",
    "    except ValueError as e:\n",
    "        return f\"[CBC DETECTED ERROR] Dekripsi gagal: {str(e)}\"\n",
    "\n",
    "# Enkripsi dengan AES-CBC\n",
    "key = os.urandom(32)  # AES-256 key\n",
    "iv_cbc = os.urandom(16)  # IV untuk CBC\n",
    "plaintext = \"Pesan penting yang harus dirahasiakan\"\n",
    "\n",
    "ciphertext_cbc = encrypt_cbc(plaintext, key, iv_cbc)\n",
    "print(f\"Ciphertext (CBC): {ciphertext_cbc.hex()}\\n\")\n",
    "\n",
    "# Modifikasi Satu Byte dalam Ciphertext (Simulasi Serangan)\n",
    "ciphertext_cbc_modified = bytearray(ciphertext_cbc)\n",
    "\n",
    "ciphertext_cbc_modified[5] ^= 0xFF  # Mengubah satu byte\n",
    "\n",
    "# Dekripsi Ciphertext yang Telah Diubah\n",
    "decrypted_cbc_modified = decrypt_cbc(iv_cbc, bytes(ciphertext_cbc_modified), key)\n",
    "print(f\" CBC Dekripsi Setelah Perubahan: {decrypted_cbc_modified}\\n\")\n"
   ]
  },
  {
   "cell_type": "markdown",
   "metadata": {},
   "source": [
    "8. Bagaimana perbedaan respon model CBC dan mode GCM terhadap serangan?"
   ]
  },
  {
   "cell_type": "code",
   "execution_count": null,
   "metadata": {},
   "outputs": [],
   "source": []
  }
 ],
 "metadata": {
  "kernelspec": {
   "display_name": "Python 3",
   "language": "python",
   "name": "python3"
  },
  "language_info": {
   "codemirror_mode": {
    "name": "ipython",
    "version": 3
   },
   "file_extension": ".py",
   "mimetype": "text/x-python",
   "name": "python",
   "nbconvert_exporter": "python",
   "pygments_lexer": "ipython3",
   "version": "3.11.9"
  }
 },
 "nbformat": 4,
 "nbformat_minor": 2
}
